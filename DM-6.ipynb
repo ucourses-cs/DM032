{
 "cells": [
  {
   "cell_type": "code",
   "execution_count": 1,
   "metadata": {},
   "outputs": [],
   "source": [
    "import pandas as pd"
   ]
  },
  {
   "cell_type": "code",
   "execution_count": null,
   "metadata": {},
   "outputs": [
    {
     "name": "stdout",
     "output_type": "stream",
     "text": [
      "24.0\n",
      "6\n"
     ]
    }
   ],
   "source": [
    "import pandas as pd\n",
    "\n",
    "df = pd.DataFrame(columns=['fname', 'lname', 'std_id', 'age', 'sex'])\n",
    "df.loc[0] = ['Ali', 'Mahmoodi', 555, 22, 'M']\n",
    "df.loc[1] = ['Samira', 'Sadeghi', 333, 23, 'F']\n",
    "df.loc[2] = ['Parisa', 'Alivand', 666, None, 'F']\n",
    "df.loc[3] = ['Armin', 'Vahedi', 111, 24, 'M']\n",
    "df.loc[4] = ['Reza', 'Yasi', 222, 27, 'M']\n",
    "df.loc[5] = ['Hassan', 'Bahadori', 444, None, None]\n",
    "\n",
    "print(df['age'].mean())\n",
    "print(df['fname'].count())\n"
   ]
  },
  {
   "cell_type": "code",
   "execution_count": null,
   "metadata": {},
   "outputs": [
    {
     "name": "stdout",
     "output_type": "stream",
     "text": [
      "6\n",
      "2\n"
     ]
    }
   ],
   "source": [
    "df = pd.DataFrame(columns=['fname', 'lname', 'std_id', 'age', 'sex'])\n",
    "df.loc[0] = ['Ali', 'Mahmoodi', 555, 22, 'M']\n",
    "df.loc[1] = ['Samira', 'Sadeghi', 333, 23, 'F']\n",
    "df.loc[2] = ['Parisa', 'Alivand', 666, None, 'F']\n",
    "df.loc[3] = ['Armin', 'Vahedi', 111, 24, 'M']\n",
    "df.loc[4] = ['Reza', 'Yasi', 222, 27, 'M']\n",
    "df.loc[5] = ['Hassan', 'Bahadori', 444, None, None]\n",
    "\n",
    "x = df['age'] > 23\n",
    "print(x.count())\n",
    "print(x.sum())\n",
    "pritnt(df['age'].isna().sum())"
   ]
  },
  {
   "cell_type": "code",
   "execution_count": 7,
   "metadata": {},
   "outputs": [
    {
     "name": "stdout",
     "output_type": "stream",
     "text": [
      "fname     0\n",
      "lname     0\n",
      "std_id    0\n",
      "age       2\n",
      "sex       1\n",
      "dtype: int64\n"
     ]
    }
   ],
   "source": [
    "df = pd.DataFrame(columns=['fname', 'lname', 'std_id', 'age', 'sex'])\n",
    "df.loc[0] = ['Ali', 'Mahmoodi', 555, 22, 'M']\n",
    "df.loc[1] = ['Samira', 'Sadeghi', 333, 23, 'F']\n",
    "df.loc[2] = ['Parisa', 'Alivand', 666, None, 'F']\n",
    "df.loc[3] = ['Armin', 'Vahedi', 111, 24, 'M']\n",
    "df.loc[4] = ['Reza', 'Yasi', 222, 27, 'M']\n",
    "df.loc[5] = ['Hassan', 'Bahadori', 444, None, None]\n",
    "\n",
    "\n",
    "print(df.isna().sum())"
   ]
  },
  {
   "cell_type": "code",
   "execution_count": 8,
   "metadata": {},
   "outputs": [
    {
     "name": "stdout",
     "output_type": "stream",
     "text": [
      "   fname  lname  std_id    age    sex\n",
      "0  False  False   False  False  False\n",
      "1  False  False   False  False  False\n",
      "2  False  False   False   True  False\n",
      "3  False  False   False  False  False\n",
      "4  False  False   False  False  False\n",
      "5  False  False   False   True   True\n"
     ]
    }
   ],
   "source": [
    "df = pd.DataFrame(columns=['fname', 'lname', 'std_id', 'age', 'sex'])\n",
    "df.loc[0] = ['Ali', 'Mahmoodi', 555, 22, 'M']\n",
    "df.loc[1] = ['Samira', 'Sadeghi', 333, 23, 'F']\n",
    "df.loc[2] = ['Parisa', 'Alivand', 666, None, 'F']\n",
    "df.loc[3] = ['Armin', 'Vahedi', 111, 24, 'M']\n",
    "df.loc[4] = ['Reza', 'Yasi', 222, 27, 'M']\n",
    "df.loc[5] = ['Hassan', 'Bahadori', 444, None, None]\n",
    "\n",
    "\n",
    "print(df.isna())"
   ]
  },
  {
   "cell_type": "code",
   "execution_count": 14,
   "metadata": {},
   "outputs": [
    {
     "name": "stdout",
     "output_type": "stream",
     "text": [
      "fname     0\n",
      "lname     0\n",
      "std_id    0\n",
      "age       2\n",
      "sex       1\n",
      "dtype: int64\n"
     ]
    }
   ],
   "source": [
    "df = pd.DataFrame(columns=['fname', 'lname', 'std_id', 'age', 'sex'])\n",
    "df.loc[0] = ['Ali', 'Mahmoodi', 555, 22, 'M']\n",
    "df.loc[1] = ['Samira', 'Sadeghi', 333, 23, 'F']\n",
    "df.loc[2] = ['Parisa', 'Alivand', 666, None, 'F']\n",
    "df.loc[3] = ['Armin', 'Vahedi', 111, 24, 'M']\n",
    "df.loc[4] = ['Reza', 'Yasi', 222, 27, 'M']\n",
    "df.loc[5] = ['Hassan', 'Bahadori', 444, None, None]\n",
    "\n",
    "\n",
    "print(df.isna().sum())"
   ]
  },
  {
   "cell_type": "code",
   "execution_count": 10,
   "metadata": {},
   "outputs": [
    {
     "name": "stdout",
     "output_type": "stream",
     "text": [
      "3\n"
     ]
    }
   ],
   "source": [
    "df = pd.DataFrame(columns=['fname', 'lname', 'std_id', 'age', 'sex'])\n",
    "df.loc[0] = ['Ali', 'Mahmoodi', 555, 22, 'M']\n",
    "df.loc[1] = ['Samira', 'Sadeghi', 333, 23, 'F']\n",
    "df.loc[2] = ['Parisa', 'Alivand', 666, None, 'F']\n",
    "df.loc[3] = ['Armin', 'Vahedi', 111, 24, 'M']\n",
    "df.loc[4] = ['Reza', 'Yasi', 222, 27, 'M']\n",
    "df.loc[5] = ['Hassan', 'Bahadori', 444, None, None]\n",
    "\n",
    "\n",
    "print(df.isna().sum().sum())"
   ]
  },
  {
   "cell_type": "code",
   "execution_count": 18,
   "metadata": {},
   "outputs": [
    {
     "name": "stdout",
     "output_type": "stream",
     "text": [
      "Index(['PassengerId', 'Survived', 'Pclass', 'Name', 'Sex', 'Age', 'SibSp',\n",
      "       'Parch', 'Ticket', 'Fare', 'Cabin', 'Embarked'],\n",
      "      dtype='object')\n"
     ]
    }
   ],
   "source": [
    "titanic_data = pd.read_csv('titanic.csv')\n",
    "print(titanic_data.columns)"
   ]
  },
  {
   "cell_type": "code",
   "execution_count": 22,
   "metadata": {},
   "outputs": [
    {
     "data": {
      "text/html": [
       "<div>\n",
       "<style scoped>\n",
       "    .dataframe tbody tr th:only-of-type {\n",
       "        vertical-align: middle;\n",
       "    }\n",
       "\n",
       "    .dataframe tbody tr th {\n",
       "        vertical-align: top;\n",
       "    }\n",
       "\n",
       "    .dataframe thead th {\n",
       "        text-align: right;\n",
       "    }\n",
       "</style>\n",
       "<table border=\"1\" class=\"dataframe\">\n",
       "  <thead>\n",
       "    <tr style=\"text-align: right;\">\n",
       "      <th></th>\n",
       "      <th>PassengerId</th>\n",
       "      <th>Survived</th>\n",
       "      <th>Pclass</th>\n",
       "      <th>Name</th>\n",
       "      <th>Sex</th>\n",
       "      <th>Age</th>\n",
       "      <th>SibSp</th>\n",
       "      <th>Parch</th>\n",
       "      <th>Ticket</th>\n",
       "      <th>Fare</th>\n",
       "      <th>Cabin</th>\n",
       "      <th>Embarked</th>\n",
       "    </tr>\n",
       "  </thead>\n",
       "  <tbody>\n",
       "    <tr>\n",
       "      <th>0</th>\n",
       "      <td>1</td>\n",
       "      <td>0</td>\n",
       "      <td>3</td>\n",
       "      <td>Braund, Mr. Owen Harris</td>\n",
       "      <td>male</td>\n",
       "      <td>22.0</td>\n",
       "      <td>1</td>\n",
       "      <td>0</td>\n",
       "      <td>A/5 21171</td>\n",
       "      <td>7.2500</td>\n",
       "      <td>NaN</td>\n",
       "      <td>S</td>\n",
       "    </tr>\n",
       "    <tr>\n",
       "      <th>1</th>\n",
       "      <td>2</td>\n",
       "      <td>1</td>\n",
       "      <td>1</td>\n",
       "      <td>Cumings, Mrs. John Bradley (Florence Briggs Th...</td>\n",
       "      <td>female</td>\n",
       "      <td>38.0</td>\n",
       "      <td>1</td>\n",
       "      <td>0</td>\n",
       "      <td>PC 17599</td>\n",
       "      <td>71.2833</td>\n",
       "      <td>C85</td>\n",
       "      <td>C</td>\n",
       "    </tr>\n",
       "    <tr>\n",
       "      <th>2</th>\n",
       "      <td>3</td>\n",
       "      <td>1</td>\n",
       "      <td>3</td>\n",
       "      <td>Heikkinen, Miss. Laina</td>\n",
       "      <td>female</td>\n",
       "      <td>26.0</td>\n",
       "      <td>0</td>\n",
       "      <td>0</td>\n",
       "      <td>STON/O2. 3101282</td>\n",
       "      <td>7.9250</td>\n",
       "      <td>NaN</td>\n",
       "      <td>S</td>\n",
       "    </tr>\n",
       "    <tr>\n",
       "      <th>3</th>\n",
       "      <td>4</td>\n",
       "      <td>1</td>\n",
       "      <td>1</td>\n",
       "      <td>Futrelle, Mrs. Jacques Heath (Lily May Peel)</td>\n",
       "      <td>female</td>\n",
       "      <td>35.0</td>\n",
       "      <td>1</td>\n",
       "      <td>0</td>\n",
       "      <td>113803</td>\n",
       "      <td>53.1000</td>\n",
       "      <td>C123</td>\n",
       "      <td>S</td>\n",
       "    </tr>\n",
       "    <tr>\n",
       "      <th>4</th>\n",
       "      <td>5</td>\n",
       "      <td>0</td>\n",
       "      <td>3</td>\n",
       "      <td>Allen, Mr. William Henry</td>\n",
       "      <td>male</td>\n",
       "      <td>35.0</td>\n",
       "      <td>0</td>\n",
       "      <td>0</td>\n",
       "      <td>373450</td>\n",
       "      <td>8.0500</td>\n",
       "      <td>NaN</td>\n",
       "      <td>S</td>\n",
       "    </tr>\n",
       "  </tbody>\n",
       "</table>\n",
       "</div>"
      ],
      "text/plain": [
       "   PassengerId  Survived  Pclass  \\\n",
       "0            1         0       3   \n",
       "1            2         1       1   \n",
       "2            3         1       3   \n",
       "3            4         1       1   \n",
       "4            5         0       3   \n",
       "\n",
       "                                                Name     Sex   Age  SibSp  \\\n",
       "0                            Braund, Mr. Owen Harris    male  22.0      1   \n",
       "1  Cumings, Mrs. John Bradley (Florence Briggs Th...  female  38.0      1   \n",
       "2                             Heikkinen, Miss. Laina  female  26.0      0   \n",
       "3       Futrelle, Mrs. Jacques Heath (Lily May Peel)  female  35.0      1   \n",
       "4                           Allen, Mr. William Henry    male  35.0      0   \n",
       "\n",
       "   Parch            Ticket     Fare Cabin Embarked  \n",
       "0      0         A/5 21171   7.2500   NaN        S  \n",
       "1      0          PC 17599  71.2833   C85        C  \n",
       "2      0  STON/O2. 3101282   7.9250   NaN        S  \n",
       "3      0            113803  53.1000  C123        S  \n",
       "4      0            373450   8.0500   NaN        S  "
      ]
     },
     "execution_count": 22,
     "metadata": {},
     "output_type": "execute_result"
    }
   ],
   "source": [
    "titanic_data.head(5)"
   ]
  },
  {
   "cell_type": "code",
   "execution_count": 21,
   "metadata": {},
   "outputs": [
    {
     "data": {
      "text/plain": [
       "29.69911764705882"
      ]
     },
     "execution_count": 21,
     "metadata": {},
     "output_type": "execute_result"
    }
   ],
   "source": [
    "titanic_data['Age'].mean()"
   ]
  },
  {
   "cell_type": "code",
   "execution_count": null,
   "metadata": {},
   "outputs": [
    {
     "data": {
      "text/plain": [
       "2"
      ]
     },
     "execution_count": 28,
     "metadata": {},
     "output_type": "execute_result"
    }
   ],
   "source": [
    "titanic_data['Sex'].unique()\n",
    "titanic_data['Sex'].unique().size"
   ]
  },
  {
   "cell_type": "code",
   "execution_count": 23,
   "metadata": {},
   "outputs": [],
   "source": [
    "titanic_data_p = pd.read_csv('titanic.csv', skiprows=10, nrows=10)"
   ]
  }
 ],
 "metadata": {
  "kernelspec": {
   "display_name": "Python 3",
   "language": "python",
   "name": "python3"
  },
  "language_info": {
   "codemirror_mode": {
    "name": "ipython",
    "version": 3
   },
   "file_extension": ".py",
   "mimetype": "text/x-python",
   "name": "python",
   "nbconvert_exporter": "python",
   "pygments_lexer": "ipython3",
   "version": "3.11.9"
  }
 },
 "nbformat": 4,
 "nbformat_minor": 2
}
