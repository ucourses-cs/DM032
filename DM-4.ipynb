{
 "cells": [
  {
   "cell_type": "code",
   "execution_count": 50,
   "metadata": {},
   "outputs": [],
   "source": [
    "import pandas as pd"
   ]
  },
  {
   "cell_type": "code",
   "execution_count": null,
   "metadata": {},
   "outputs": [],
   "source": [
    "data = {\n",
    "    'fname':['Ali', 'Arezoo'],\n",
    "    'lname':['Talebi', 'Alipour'],\n",
    "    'std_num':[444, 333]\n",
    "}\n",
    "data_pd = pd.DataFrame(data)\n",
    "\n",
    "new_data = {'fname': 'Ramin', 'lname': 'Panahi', 'std_num': 222}\n",
    "data_pd = data_pd._append(new_data, ignore_index=True)\n",
    "print(data_pd.shape)#(3, 3)\n",
    "print()\n",
    "print(data_pd)"
   ]
  },
  {
   "cell_type": "code",
   "execution_count": null,
   "metadata": {},
   "outputs": [],
   "source": [
    "data = {\n",
    "    'fname':['Ali', 'Arezoo'],\n",
    "    'lname':['Talebi', 'Alipour'],\n",
    "    'std_num':[444, 333]\n",
    "}\n",
    "data_pd = pd.DataFrame(data)\n",
    "data_pd.loc[len(data_pd)] = ['Reza', 'Habibi', 111]\n",
    "print(data_pd)"
   ]
  },
  {
   "cell_type": "code",
   "execution_count": 31,
   "metadata": {},
   "outputs": [
    {
     "name": "stdout",
     "output_type": "stream",
     "text": [
      "    fname    lname  std_num\n",
      "0     Ali   Talebi      222\n",
      "1  Arezoo  Alipour      333\n",
      "2   Ramin   Panahi      444\n",
      "3    Reza   Habibi      111\n"
     ]
    }
   ],
   "source": [
    "print(data_pd)"
   ]
  },
  {
   "cell_type": "code",
   "execution_count": null,
   "metadata": {},
   "outputs": [],
   "source": [
    "data = {\n",
    "    'fname':['Ali', 'Arezoo'],\n",
    "    'lname':['Talebi', 'Alipour'],\n",
    "    'std_num':[444, 333]\n",
    "}\n",
    "data_pd = pd.DataFrame(data)\n",
    "data_pd.loc[len(data_pd)] = ['Reza', 'Habibi', 111]\n",
    "\n",
    "data_pd.sort_values(by='std_num', inplace=True)\n",
    "\n",
    "print(data_pd.iloc[0])"
   ]
  },
  {
   "cell_type": "code",
   "execution_count": 56,
   "metadata": {},
   "outputs": [],
   "source": [
    "data_pd.to_csv('output.csv', index=False)"
   ]
  },
  {
   "cell_type": "code",
   "execution_count": null,
   "metadata": {},
   "outputs": [],
   "source": [
    "import csv\n",
    "\n",
    "new_row = ['Mohammad', 'Moniri', 555]\n",
    "\n",
    "with open('output.csv', 'a', newline='') as file:\n",
    "    writer = csv.writer(file)\n",
    "    writer.writerow(new_row)"
   ]
  },
  {
   "cell_type": "code",
   "execution_count": 58,
   "metadata": {},
   "outputs": [],
   "source": [
    "fdata_pd = pd.read_csv('output.csv')"
   ]
  },
  {
   "cell_type": "code",
   "execution_count": 71,
   "metadata": {},
   "outputs": [],
   "source": [
    "fdata_pd.sort_values(by='std_num', inplace=True)"
   ]
  },
  {
   "cell_type": "code",
   "execution_count": 76,
   "metadata": {},
   "outputs": [
    {
     "name": "stdout",
     "output_type": "stream",
     "text": [
      "      fname    lname  std_num\n",
      "3      Reza   Habibi      111\n",
      "2     Ramin   Panahi      222\n",
      "1    Arezoo  Alipour      333\n",
      "0       Ali   Talebi      444\n",
      "4  Mohammad   Moniri      555\n"
     ]
    }
   ],
   "source": [
    "print(fdata_pd)"
   ]
  },
  {
   "cell_type": "code",
   "execution_count": 73,
   "metadata": {},
   "outputs": [],
   "source": [
    "fdata_pd.at[3,'std_num'] = 1111"
   ]
  },
  {
   "cell_type": "code",
   "execution_count": null,
   "metadata": {},
   "outputs": [],
   "source": [
    "print(fdata_pd)"
   ]
  },
  {
   "cell_type": "code",
   "execution_count": 75,
   "metadata": {},
   "outputs": [],
   "source": [
    "fdata_pd.iat[0, 2] = 111"
   ]
  },
  {
   "cell_type": "code",
   "execution_count": null,
   "metadata": {},
   "outputs": [],
   "source": [
    "print(fdata_pd)"
   ]
  }
 ],
 "metadata": {
  "kernelspec": {
   "display_name": "Python 3",
   "language": "python",
   "name": "python3"
  },
  "language_info": {
   "codemirror_mode": {
    "name": "ipython",
    "version": 3
   },
   "file_extension": ".py",
   "mimetype": "text/x-python",
   "name": "python",
   "nbconvert_exporter": "python",
   "pygments_lexer": "ipython3",
   "version": "3.11.9"
  }
 },
 "nbformat": 4,
 "nbformat_minor": 2
}
