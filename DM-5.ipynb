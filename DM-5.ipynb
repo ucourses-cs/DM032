{
 "cells": [
  {
   "cell_type": "code",
   "execution_count": 1,
   "metadata": {},
   "outputs": [],
   "source": [
    "import pandas as pd"
   ]
  },
  {
   "cell_type": "code",
   "execution_count": null,
   "metadata": {},
   "outputs": [],
   "source": [
    "df = pd.DataFrame(columns=['fname', 'lname', 'std_id', 'age', 'sex'])\n",
    "df.loc[0] = ['Ali', 'Mahmoodi', 555, 22, 'M']\n",
    "df.loc[1] = ['Samira', 'Sadeghi', 333, 23, 'F']\n",
    "df.loc[2] = ['Parisa', 'Alivand', 666, None, 'F']\n",
    "df.loc[3] = ['Armin', 'Vahedi', 111, 24,'M']\n",
    "df.loc[4] = ['Reza', 'Yasi', 222, 27, 'M']\n",
    "df.loc[5] = ['Hassan', 'Bahadori', 444, None, None]"
   ]
  },
  {
   "cell_type": "code",
   "execution_count": 12,
   "metadata": {},
   "outputs": [
    {
     "name": "stdout",
     "output_type": "stream",
     "text": [
      "Samira Sadeghi is older than 22\n",
      "Armin Vahedi is older than 22\n",
      "Reza Yasi is older than 22\n"
     ]
    }
   ],
   "source": [
    "import pandas as pd\n",
    "\n",
    "# Create the DataFrame\n",
    "df = pd.DataFrame(columns=['fname', 'lname', 'std_id', 'age', 'sex'])\n",
    "df.loc[0] = ['Ali', 'Mahmoodi', 555, 22, 'M']\n",
    "df.loc[1] = ['Samira', 'Sadeghi', 333, 23, 'F']\n",
    "df.loc[2] = ['Parisa', 'Alivand', 666, None, 'F']\n",
    "df.loc[3] = ['Armin', 'Vahedi', 111, 24, 'M']\n",
    "df.loc[4] = ['Reza', 'Yasi', 222, 27, 'M']\n",
    "df.loc[5] = ['Hassan', 'Bahadori', 444, None, None]\n",
    "\n",
    "# Iterate over the DataFrame and print students older than 22\n",
    "for index, row in df.iterrows():\n",
    "    if pd.notnull(row['age']) and row['age'] > 22:\n",
    "        print(f\"{row['fname']} {row['lname']} is older than 22\")"
   ]
  },
  {
   "cell_type": "code",
   "execution_count": 2,
   "metadata": {},
   "outputs": [
    {
     "name": "stdout",
     "output_type": "stream",
     "text": [
      "    fname    lname\n",
      "1  Samira  Sadeghi\n",
      "3   Armin   Vahedi\n",
      "4    Reza     Yasi\n"
     ]
    }
   ],
   "source": [
    "import pandas as pd\n",
    "\n",
    "# Create the DataFrame\n",
    "df = pd.DataFrame(columns=['fname', 'lname', 'std_id', 'age', 'sex'])\n",
    "df.loc[0] = ['Ali', 'Mahmoodi', 555, 22, 'M']\n",
    "df.loc[1] = ['Samira', 'Sadeghi', 333, 23, 'F']\n",
    "df.loc[2] = ['Parisa', 'Alivand', 666, None, 'F']\n",
    "df.loc[3] = ['Armin', 'Vahedi', 111, 24, 'M']\n",
    "df.loc[4] = ['Reza', 'Yasi', 222, 27, 'M']\n",
    "df.loc[5] = ['Hassan', 'Bahadori', 444, None, None]\n",
    "\n",
    "# Filter students older than 22\n",
    "students_older_than_22 = df[df['age'] > 22]\n",
    "\n",
    "# Print the result\n",
    "print(students_older_than_22[['fname', 'lname']])"
   ]
  },
  {
   "cell_type": "code",
   "execution_count": 23,
   "metadata": {},
   "outputs": [
    {
     "name": "stdout",
     "output_type": "stream",
     "text": [
      "0    False\n",
      "1     True\n",
      "2    False\n",
      "3     True\n",
      "4     True\n",
      "5    False\n",
      "Name: age, dtype: bool\n"
     ]
    }
   ],
   "source": [
    "#pay attention:\n",
    "print(df['age'] > 22)"
   ]
  },
  {
   "cell_type": "code",
   "execution_count": 16,
   "metadata": {},
   "outputs": [
    {
     "name": "stdout",
     "output_type": "stream",
     "text": [
      "   fname   lname  std_id age sex\n",
      "3  Armin  Vahedi     111  24   M\n",
      "4   Reza    Yasi     222  27   M\n"
     ]
    }
   ],
   "source": [
    "import pandas as pd\n",
    "\n",
    "# Create the DataFrame\n",
    "df = pd.DataFrame(columns=['fname', 'lname', 'std_id', 'age', 'sex'])\n",
    "df.loc[0] = ['Ali', 'Mahmoodi', 555, 22, 'M']\n",
    "df.loc[1] = ['Samira', 'Sadeghi', 333, 23, 'F']\n",
    "df.loc[2] = ['Parisa', 'Alivand', 666, None, 'F']\n",
    "df.loc[3] = ['Armin', 'Vahedi', 111, 24, 'M']\n",
    "df.loc[4] = ['Reza', 'Yasi', 222, 27, 'M']\n",
    "df.loc[5] = ['Hassan', 'Bahadori', 444, None, None]\n",
    "\n",
    "# Filter students older than 22\n",
    "male_students_older_than_22 = df[(df['age'] > 22) & (df['sex'] == 'M')]\n",
    "print(male_students_older_than_22)"
   ]
  },
  {
   "cell_type": "code",
   "execution_count": 18,
   "metadata": {},
   "outputs": [
    {
     "name": "stdout",
     "output_type": "stream",
     "text": [
      "0    False\n",
      "1    False\n",
      "2     True\n",
      "3    False\n",
      "4    False\n",
      "5     True\n",
      "Name: age, dtype: bool\n"
     ]
    }
   ],
   "source": [
    "print(df['age'].isnull())"
   ]
  },
  {
   "cell_type": "code",
   "execution_count": 19,
   "metadata": {},
   "outputs": [
    {
     "name": "stdout",
     "output_type": "stream",
     "text": [
      "0    False\n",
      "1    False\n",
      "2    False\n",
      "3    False\n",
      "4    False\n",
      "5    False\n",
      "Name: fname, dtype: bool\n"
     ]
    }
   ],
   "source": [
    "print(df['fname'].isnull())"
   ]
  },
  {
   "cell_type": "code",
   "execution_count": 20,
   "metadata": {},
   "outputs": [
    {
     "name": "stdout",
     "output_type": "stream",
     "text": [
      "True\n"
     ]
    }
   ],
   "source": [
    "print(df['age'].isnull().any())"
   ]
  },
  {
   "cell_type": "code",
   "execution_count": 21,
   "metadata": {},
   "outputs": [
    {
     "name": "stdout",
     "output_type": "stream",
     "text": [
      "False\n"
     ]
    }
   ],
   "source": [
    "print(df['fname'].isnull().any())"
   ]
  },
  {
   "cell_type": "code",
   "execution_count": null,
   "metadata": {},
   "outputs": [],
   "source": [
    "null_cols = []\n",
    "for col in df.columns:\n",
    "    if df[col].isnull().any():\n",
    "        null_cols.append(col)\n",
    "\n",
    "print(null_cols)"
   ]
  },
  {
   "cell_type": "code",
   "execution_count": null,
   "metadata": {},
   "outputs": [],
   "source": [
    "average_age = df['age'].mean()"
   ]
  }
 ],
 "metadata": {
  "kernelspec": {
   "display_name": "Python 3",
   "language": "python",
   "name": "python3"
  },
  "language_info": {
   "codemirror_mode": {
    "name": "ipython",
    "version": 3
   },
   "file_extension": ".py",
   "mimetype": "text/x-python",
   "name": "python",
   "nbconvert_exporter": "python",
   "pygments_lexer": "ipython3",
   "version": "3.11.9"
  }
 },
 "nbformat": 4,
 "nbformat_minor": 2
}
